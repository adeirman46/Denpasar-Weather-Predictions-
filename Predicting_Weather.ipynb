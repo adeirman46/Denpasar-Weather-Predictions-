{
  "nbformat": 4,
  "nbformat_minor": 0,
  "metadata": {
    "colab": {
      "name": "Predicting Weather.ipynb",
      "provenance": [],
      "collapsed_sections": []
    },
    "kernelspec": {
      "name": "python3",
      "display_name": "Python 3"
    },
    "language_info": {
      "name": "python"
    },
    "accelerator": "GPU"
  },
  "cells": [
    {
      "cell_type": "markdown",
      "metadata": {
        "id": "KK-2T7qjZPXk"
      },
      "source": [
        "## Denpasar Weather Dataset Link\n",
        "You can download the dataset manually and then upload the dataset into the colab notebook"
      ]
    },
    {
      "cell_type": "code",
      "metadata": {
        "id": "4C8o3NWxQzvP"
      },
      "source": [
        "#https://tianchi.aliyun.com/dataset/dataDetail?spm=5176.12281978.0.0.2746bb320Ji0VP&dataId=93492"
      ],
      "execution_count": 2,
      "outputs": []
    },
    {
      "cell_type": "markdown",
      "metadata": {
        "id": "Vt1xEFImZfJp"
      },
      "source": [
        "## Importing Libraries"
      ]
    },
    {
      "cell_type": "code",
      "metadata": {
        "id": "np18QgzoRH5M"
      },
      "source": [
        "import pandas as pd\n",
        "import matplotlib.pyplot as plt\n",
        "%matplotlib inline\n",
        "import seaborn as sns\n",
        "import tensorflow as tf\n",
        "from tensorflow.keras.models import Sequential\n",
        "from tensorflow.keras.layers import Dense\n",
        "from sklearn.model_selection import train_test_split"
      ],
      "execution_count": 1,
      "outputs": []
    },
    {
      "cell_type": "markdown",
      "metadata": {
        "id": "AZiIF_hddzJA"
      },
      "source": [
        "## Data Wrangling\n",
        "I saw that the dataset is cleaned so i just remove the feature that not needed"
      ]
    },
    {
      "cell_type": "code",
      "metadata": {
        "id": "w3zkCScYRT2N"
      },
      "source": [
        "df = pd.read_csv('/content/openweatherdata-denpasar-1990-2020.csv')"
      ],
      "execution_count": 7,
      "outputs": []
    },
    {
      "cell_type": "code",
      "metadata": {
        "id": "zDnJxcHKecCq"
      },
      "source": [
        "df.drop(['dt','dt_iso','timezone','city_name','lat','lon','sea_level','grnd_level','rain_1h','rain_3h','rain_6h','rain_12h','rain_24h','rain_today','snow_1h','snow_3h','snow_6h','snow_12h','snow_24h','snow_today','weather_main','weather_id','weather_icon'], axis=1, inplace=True)"
      ],
      "execution_count": 8,
      "outputs": []
    },
    {
      "cell_type": "code",
      "metadata": {
        "colab": {
          "base_uri": "https://localhost:8080/",
          "height": 203
        },
        "id": "OBOg8F5bc9Kc",
        "outputId": "e3144084-4847-4bfe-bdb4-5f1255454d41"
      },
      "source": [
        "df.head()"
      ],
      "execution_count": 9,
      "outputs": [
        {
          "output_type": "execute_result",
          "data": {
            "text/html": [
              "<div>\n",
              "<style scoped>\n",
              "    .dataframe tbody tr th:only-of-type {\n",
              "        vertical-align: middle;\n",
              "    }\n",
              "\n",
              "    .dataframe tbody tr th {\n",
              "        vertical-align: top;\n",
              "    }\n",
              "\n",
              "    .dataframe thead th {\n",
              "        text-align: right;\n",
              "    }\n",
              "</style>\n",
              "<table border=\"1\" class=\"dataframe\">\n",
              "  <thead>\n",
              "    <tr style=\"text-align: right;\">\n",
              "      <th></th>\n",
              "      <th>temp</th>\n",
              "      <th>temp_min</th>\n",
              "      <th>temp_max</th>\n",
              "      <th>pressure</th>\n",
              "      <th>humidity</th>\n",
              "      <th>wind_speed</th>\n",
              "      <th>wind_deg</th>\n",
              "      <th>clouds_all</th>\n",
              "      <th>weather_description</th>\n",
              "    </tr>\n",
              "  </thead>\n",
              "  <tbody>\n",
              "    <tr>\n",
              "      <th>0</th>\n",
              "      <td>25.82</td>\n",
              "      <td>25.82</td>\n",
              "      <td>25.82</td>\n",
              "      <td>1010.0</td>\n",
              "      <td>86</td>\n",
              "      <td>1.36</td>\n",
              "      <td>225</td>\n",
              "      <td>98</td>\n",
              "      <td>light rain</td>\n",
              "    </tr>\n",
              "    <tr>\n",
              "      <th>1</th>\n",
              "      <td>26.20</td>\n",
              "      <td>26.20</td>\n",
              "      <td>26.20</td>\n",
              "      <td>1011.0</td>\n",
              "      <td>84</td>\n",
              "      <td>2.09</td>\n",
              "      <td>247</td>\n",
              "      <td>91</td>\n",
              "      <td>light rain</td>\n",
              "    </tr>\n",
              "    <tr>\n",
              "      <th>2</th>\n",
              "      <td>26.45</td>\n",
              "      <td>26.45</td>\n",
              "      <td>26.45</td>\n",
              "      <td>1011.0</td>\n",
              "      <td>84</td>\n",
              "      <td>2.44</td>\n",
              "      <td>262</td>\n",
              "      <td>94</td>\n",
              "      <td>light rain</td>\n",
              "    </tr>\n",
              "    <tr>\n",
              "      <th>3</th>\n",
              "      <td>26.80</td>\n",
              "      <td>26.80</td>\n",
              "      <td>26.80</td>\n",
              "      <td>1011.0</td>\n",
              "      <td>82</td>\n",
              "      <td>2.29</td>\n",
              "      <td>271</td>\n",
              "      <td>94</td>\n",
              "      <td>light rain</td>\n",
              "    </tr>\n",
              "    <tr>\n",
              "      <th>4</th>\n",
              "      <td>27.04</td>\n",
              "      <td>27.04</td>\n",
              "      <td>27.04</td>\n",
              "      <td>1010.0</td>\n",
              "      <td>82</td>\n",
              "      <td>1.71</td>\n",
              "      <td>274</td>\n",
              "      <td>76</td>\n",
              "      <td>broken clouds</td>\n",
              "    </tr>\n",
              "  </tbody>\n",
              "</table>\n",
              "</div>"
            ],
            "text/plain": [
              "    temp  temp_min  temp_max  ...  wind_deg  clouds_all  weather_description\n",
              "0  25.82     25.82     25.82  ...       225          98           light rain\n",
              "1  26.20     26.20     26.20  ...       247          91           light rain\n",
              "2  26.45     26.45     26.45  ...       262          94           light rain\n",
              "3  26.80     26.80     26.80  ...       271          94           light rain\n",
              "4  27.04     27.04     27.04  ...       274          76        broken clouds\n",
              "\n",
              "[5 rows x 9 columns]"
            ]
          },
          "metadata": {
            "tags": []
          },
          "execution_count": 9
        }
      ]
    },
    {
      "cell_type": "markdown",
      "metadata": {
        "id": "K4MEkS8kfSLs"
      },
      "source": [
        "### One Hot Encoding\n",
        "Because of the weather_description is needed for labels as categorical variable so we can do one hot encoding"
      ]
    },
    {
      "cell_type": "code",
      "metadata": {
        "id": "Jhj6KHVm6tVC"
      },
      "source": [
        "df2 = pd.get_dummies(df['weather_description'])"
      ],
      "execution_count": 10,
      "outputs": []
    },
    {
      "cell_type": "code",
      "metadata": {
        "colab": {
          "base_uri": "https://localhost:8080/",
          "height": 274
        },
        "id": "2VwQzEU_9BzN",
        "outputId": "37e344c0-208d-413a-95df-36b96d89d92d"
      },
      "source": [
        "df2.head()"
      ],
      "execution_count": 11,
      "outputs": [
        {
          "output_type": "execute_result",
          "data": {
            "text/html": [
              "<div>\n",
              "<style scoped>\n",
              "    .dataframe tbody tr th:only-of-type {\n",
              "        vertical-align: middle;\n",
              "    }\n",
              "\n",
              "    .dataframe tbody tr th {\n",
              "        vertical-align: top;\n",
              "    }\n",
              "\n",
              "    .dataframe thead th {\n",
              "        text-align: right;\n",
              "    }\n",
              "</style>\n",
              "<table border=\"1\" class=\"dataframe\">\n",
              "  <thead>\n",
              "    <tr style=\"text-align: right;\">\n",
              "      <th></th>\n",
              "      <th>broken clouds</th>\n",
              "      <th>drizzle</th>\n",
              "      <th>dust</th>\n",
              "      <th>few clouds</th>\n",
              "      <th>fog</th>\n",
              "      <th>haze</th>\n",
              "      <th>heavy intensity rain</th>\n",
              "      <th>heavy intesity shower rain</th>\n",
              "      <th>heavy thunderstorm</th>\n",
              "      <th>light intensity drizzle</th>\n",
              "      <th>light intensity shower rain</th>\n",
              "      <th>light rain</th>\n",
              "      <th>light thunderstorm</th>\n",
              "      <th>mist</th>\n",
              "      <th>moderate rain</th>\n",
              "      <th>overcast clouds</th>\n",
              "      <th>proximity moderate rain</th>\n",
              "      <th>proximity shower rain</th>\n",
              "      <th>proximity squalls</th>\n",
              "      <th>proximity thunderstorm</th>\n",
              "      <th>proximity tornado</th>\n",
              "      <th>scattered clouds</th>\n",
              "      <th>shower rain</th>\n",
              "      <th>sky is clear</th>\n",
              "      <th>smoke</th>\n",
              "      <th>thunderstorm</th>\n",
              "      <th>thunderstorm with heavy rain</th>\n",
              "      <th>thunderstorm with light rain</th>\n",
              "      <th>thunderstorm with rain</th>\n",
              "      <th>very heavy rain</th>\n",
              "      <th>volcanic ash</th>\n",
              "    </tr>\n",
              "  </thead>\n",
              "  <tbody>\n",
              "    <tr>\n",
              "      <th>0</th>\n",
              "      <td>0</td>\n",
              "      <td>0</td>\n",
              "      <td>0</td>\n",
              "      <td>0</td>\n",
              "      <td>0</td>\n",
              "      <td>0</td>\n",
              "      <td>0</td>\n",
              "      <td>0</td>\n",
              "      <td>0</td>\n",
              "      <td>0</td>\n",
              "      <td>0</td>\n",
              "      <td>1</td>\n",
              "      <td>0</td>\n",
              "      <td>0</td>\n",
              "      <td>0</td>\n",
              "      <td>0</td>\n",
              "      <td>0</td>\n",
              "      <td>0</td>\n",
              "      <td>0</td>\n",
              "      <td>0</td>\n",
              "      <td>0</td>\n",
              "      <td>0</td>\n",
              "      <td>0</td>\n",
              "      <td>0</td>\n",
              "      <td>0</td>\n",
              "      <td>0</td>\n",
              "      <td>0</td>\n",
              "      <td>0</td>\n",
              "      <td>0</td>\n",
              "      <td>0</td>\n",
              "      <td>0</td>\n",
              "    </tr>\n",
              "    <tr>\n",
              "      <th>1</th>\n",
              "      <td>0</td>\n",
              "      <td>0</td>\n",
              "      <td>0</td>\n",
              "      <td>0</td>\n",
              "      <td>0</td>\n",
              "      <td>0</td>\n",
              "      <td>0</td>\n",
              "      <td>0</td>\n",
              "      <td>0</td>\n",
              "      <td>0</td>\n",
              "      <td>0</td>\n",
              "      <td>1</td>\n",
              "      <td>0</td>\n",
              "      <td>0</td>\n",
              "      <td>0</td>\n",
              "      <td>0</td>\n",
              "      <td>0</td>\n",
              "      <td>0</td>\n",
              "      <td>0</td>\n",
              "      <td>0</td>\n",
              "      <td>0</td>\n",
              "      <td>0</td>\n",
              "      <td>0</td>\n",
              "      <td>0</td>\n",
              "      <td>0</td>\n",
              "      <td>0</td>\n",
              "      <td>0</td>\n",
              "      <td>0</td>\n",
              "      <td>0</td>\n",
              "      <td>0</td>\n",
              "      <td>0</td>\n",
              "    </tr>\n",
              "    <tr>\n",
              "      <th>2</th>\n",
              "      <td>0</td>\n",
              "      <td>0</td>\n",
              "      <td>0</td>\n",
              "      <td>0</td>\n",
              "      <td>0</td>\n",
              "      <td>0</td>\n",
              "      <td>0</td>\n",
              "      <td>0</td>\n",
              "      <td>0</td>\n",
              "      <td>0</td>\n",
              "      <td>0</td>\n",
              "      <td>1</td>\n",
              "      <td>0</td>\n",
              "      <td>0</td>\n",
              "      <td>0</td>\n",
              "      <td>0</td>\n",
              "      <td>0</td>\n",
              "      <td>0</td>\n",
              "      <td>0</td>\n",
              "      <td>0</td>\n",
              "      <td>0</td>\n",
              "      <td>0</td>\n",
              "      <td>0</td>\n",
              "      <td>0</td>\n",
              "      <td>0</td>\n",
              "      <td>0</td>\n",
              "      <td>0</td>\n",
              "      <td>0</td>\n",
              "      <td>0</td>\n",
              "      <td>0</td>\n",
              "      <td>0</td>\n",
              "    </tr>\n",
              "    <tr>\n",
              "      <th>3</th>\n",
              "      <td>0</td>\n",
              "      <td>0</td>\n",
              "      <td>0</td>\n",
              "      <td>0</td>\n",
              "      <td>0</td>\n",
              "      <td>0</td>\n",
              "      <td>0</td>\n",
              "      <td>0</td>\n",
              "      <td>0</td>\n",
              "      <td>0</td>\n",
              "      <td>0</td>\n",
              "      <td>1</td>\n",
              "      <td>0</td>\n",
              "      <td>0</td>\n",
              "      <td>0</td>\n",
              "      <td>0</td>\n",
              "      <td>0</td>\n",
              "      <td>0</td>\n",
              "      <td>0</td>\n",
              "      <td>0</td>\n",
              "      <td>0</td>\n",
              "      <td>0</td>\n",
              "      <td>0</td>\n",
              "      <td>0</td>\n",
              "      <td>0</td>\n",
              "      <td>0</td>\n",
              "      <td>0</td>\n",
              "      <td>0</td>\n",
              "      <td>0</td>\n",
              "      <td>0</td>\n",
              "      <td>0</td>\n",
              "    </tr>\n",
              "    <tr>\n",
              "      <th>4</th>\n",
              "      <td>1</td>\n",
              "      <td>0</td>\n",
              "      <td>0</td>\n",
              "      <td>0</td>\n",
              "      <td>0</td>\n",
              "      <td>0</td>\n",
              "      <td>0</td>\n",
              "      <td>0</td>\n",
              "      <td>0</td>\n",
              "      <td>0</td>\n",
              "      <td>0</td>\n",
              "      <td>0</td>\n",
              "      <td>0</td>\n",
              "      <td>0</td>\n",
              "      <td>0</td>\n",
              "      <td>0</td>\n",
              "      <td>0</td>\n",
              "      <td>0</td>\n",
              "      <td>0</td>\n",
              "      <td>0</td>\n",
              "      <td>0</td>\n",
              "      <td>0</td>\n",
              "      <td>0</td>\n",
              "      <td>0</td>\n",
              "      <td>0</td>\n",
              "      <td>0</td>\n",
              "      <td>0</td>\n",
              "      <td>0</td>\n",
              "      <td>0</td>\n",
              "      <td>0</td>\n",
              "      <td>0</td>\n",
              "    </tr>\n",
              "  </tbody>\n",
              "</table>\n",
              "</div>"
            ],
            "text/plain": [
              "   broken clouds  drizzle  ...  very heavy rain  volcanic ash\n",
              "0              0        0  ...                0             0\n",
              "1              0        0  ...                0             0\n",
              "2              0        0  ...                0             0\n",
              "3              0        0  ...                0             0\n",
              "4              1        0  ...                0             0\n",
              "\n",
              "[5 rows x 31 columns]"
            ]
          },
          "metadata": {
            "tags": []
          },
          "execution_count": 11
        }
      ]
    },
    {
      "cell_type": "markdown",
      "metadata": {
        "id": "WNm8mpKCgcVV"
      },
      "source": [
        "#### Drop the weather_description \n",
        "By do that, we only see numeric values"
      ]
    },
    {
      "cell_type": "code",
      "metadata": {
        "id": "1UyCw2c963wa"
      },
      "source": [
        "df.drop('weather_description', axis=1, inplace=True)"
      ],
      "execution_count": 12,
      "outputs": []
    },
    {
      "cell_type": "code",
      "metadata": {
        "colab": {
          "base_uri": "https://localhost:8080/",
          "height": 203
        },
        "id": "tNirqWf69KuA",
        "outputId": "c802fd4b-dad6-4b0e-a835-02667735e59c"
      },
      "source": [
        "df.head()"
      ],
      "execution_count": 13,
      "outputs": [
        {
          "output_type": "execute_result",
          "data": {
            "text/html": [
              "<div>\n",
              "<style scoped>\n",
              "    .dataframe tbody tr th:only-of-type {\n",
              "        vertical-align: middle;\n",
              "    }\n",
              "\n",
              "    .dataframe tbody tr th {\n",
              "        vertical-align: top;\n",
              "    }\n",
              "\n",
              "    .dataframe thead th {\n",
              "        text-align: right;\n",
              "    }\n",
              "</style>\n",
              "<table border=\"1\" class=\"dataframe\">\n",
              "  <thead>\n",
              "    <tr style=\"text-align: right;\">\n",
              "      <th></th>\n",
              "      <th>temp</th>\n",
              "      <th>temp_min</th>\n",
              "      <th>temp_max</th>\n",
              "      <th>pressure</th>\n",
              "      <th>humidity</th>\n",
              "      <th>wind_speed</th>\n",
              "      <th>wind_deg</th>\n",
              "      <th>clouds_all</th>\n",
              "    </tr>\n",
              "  </thead>\n",
              "  <tbody>\n",
              "    <tr>\n",
              "      <th>0</th>\n",
              "      <td>25.82</td>\n",
              "      <td>25.82</td>\n",
              "      <td>25.82</td>\n",
              "      <td>1010.0</td>\n",
              "      <td>86</td>\n",
              "      <td>1.36</td>\n",
              "      <td>225</td>\n",
              "      <td>98</td>\n",
              "    </tr>\n",
              "    <tr>\n",
              "      <th>1</th>\n",
              "      <td>26.20</td>\n",
              "      <td>26.20</td>\n",
              "      <td>26.20</td>\n",
              "      <td>1011.0</td>\n",
              "      <td>84</td>\n",
              "      <td>2.09</td>\n",
              "      <td>247</td>\n",
              "      <td>91</td>\n",
              "    </tr>\n",
              "    <tr>\n",
              "      <th>2</th>\n",
              "      <td>26.45</td>\n",
              "      <td>26.45</td>\n",
              "      <td>26.45</td>\n",
              "      <td>1011.0</td>\n",
              "      <td>84</td>\n",
              "      <td>2.44</td>\n",
              "      <td>262</td>\n",
              "      <td>94</td>\n",
              "    </tr>\n",
              "    <tr>\n",
              "      <th>3</th>\n",
              "      <td>26.80</td>\n",
              "      <td>26.80</td>\n",
              "      <td>26.80</td>\n",
              "      <td>1011.0</td>\n",
              "      <td>82</td>\n",
              "      <td>2.29</td>\n",
              "      <td>271</td>\n",
              "      <td>94</td>\n",
              "    </tr>\n",
              "    <tr>\n",
              "      <th>4</th>\n",
              "      <td>27.04</td>\n",
              "      <td>27.04</td>\n",
              "      <td>27.04</td>\n",
              "      <td>1010.0</td>\n",
              "      <td>82</td>\n",
              "      <td>1.71</td>\n",
              "      <td>274</td>\n",
              "      <td>76</td>\n",
              "    </tr>\n",
              "  </tbody>\n",
              "</table>\n",
              "</div>"
            ],
            "text/plain": [
              "    temp  temp_min  temp_max  ...  wind_speed  wind_deg  clouds_all\n",
              "0  25.82     25.82     25.82  ...        1.36       225          98\n",
              "1  26.20     26.20     26.20  ...        2.09       247          91\n",
              "2  26.45     26.45     26.45  ...        2.44       262          94\n",
              "3  26.80     26.80     26.80  ...        2.29       271          94\n",
              "4  27.04     27.04     27.04  ...        1.71       274          76\n",
              "\n",
              "[5 rows x 8 columns]"
            ]
          },
          "metadata": {
            "tags": []
          },
          "execution_count": 13
        }
      ]
    },
    {
      "cell_type": "markdown",
      "metadata": {
        "id": "6ksK8Y7CgVYW"
      },
      "source": [
        "#### Making New Dataframe\n",
        "concatenate the dataframe and dummy variable "
      ]
    },
    {
      "cell_type": "code",
      "metadata": {
        "id": "9q8Bj4p79MJm"
      },
      "source": [
        "df_new = pd.concat([df2,df],axis=1)"
      ],
      "execution_count": 14,
      "outputs": []
    },
    {
      "cell_type": "code",
      "metadata": {
        "colab": {
          "base_uri": "https://localhost:8080/",
          "height": 274
        },
        "id": "W5PIOgxy9l_i",
        "outputId": "0e39b9af-eba7-429e-a49c-94f9380b08d2"
      },
      "source": [
        "df_new.head()"
      ],
      "execution_count": 15,
      "outputs": [
        {
          "output_type": "execute_result",
          "data": {
            "text/html": [
              "<div>\n",
              "<style scoped>\n",
              "    .dataframe tbody tr th:only-of-type {\n",
              "        vertical-align: middle;\n",
              "    }\n",
              "\n",
              "    .dataframe tbody tr th {\n",
              "        vertical-align: top;\n",
              "    }\n",
              "\n",
              "    .dataframe thead th {\n",
              "        text-align: right;\n",
              "    }\n",
              "</style>\n",
              "<table border=\"1\" class=\"dataframe\">\n",
              "  <thead>\n",
              "    <tr style=\"text-align: right;\">\n",
              "      <th></th>\n",
              "      <th>broken clouds</th>\n",
              "      <th>drizzle</th>\n",
              "      <th>dust</th>\n",
              "      <th>few clouds</th>\n",
              "      <th>fog</th>\n",
              "      <th>haze</th>\n",
              "      <th>heavy intensity rain</th>\n",
              "      <th>heavy intesity shower rain</th>\n",
              "      <th>heavy thunderstorm</th>\n",
              "      <th>light intensity drizzle</th>\n",
              "      <th>light intensity shower rain</th>\n",
              "      <th>light rain</th>\n",
              "      <th>light thunderstorm</th>\n",
              "      <th>mist</th>\n",
              "      <th>moderate rain</th>\n",
              "      <th>overcast clouds</th>\n",
              "      <th>proximity moderate rain</th>\n",
              "      <th>proximity shower rain</th>\n",
              "      <th>proximity squalls</th>\n",
              "      <th>proximity thunderstorm</th>\n",
              "      <th>proximity tornado</th>\n",
              "      <th>scattered clouds</th>\n",
              "      <th>shower rain</th>\n",
              "      <th>sky is clear</th>\n",
              "      <th>smoke</th>\n",
              "      <th>thunderstorm</th>\n",
              "      <th>thunderstorm with heavy rain</th>\n",
              "      <th>thunderstorm with light rain</th>\n",
              "      <th>thunderstorm with rain</th>\n",
              "      <th>very heavy rain</th>\n",
              "      <th>volcanic ash</th>\n",
              "      <th>temp</th>\n",
              "      <th>temp_min</th>\n",
              "      <th>temp_max</th>\n",
              "      <th>pressure</th>\n",
              "      <th>humidity</th>\n",
              "      <th>wind_speed</th>\n",
              "      <th>wind_deg</th>\n",
              "      <th>clouds_all</th>\n",
              "    </tr>\n",
              "  </thead>\n",
              "  <tbody>\n",
              "    <tr>\n",
              "      <th>0</th>\n",
              "      <td>0</td>\n",
              "      <td>0</td>\n",
              "      <td>0</td>\n",
              "      <td>0</td>\n",
              "      <td>0</td>\n",
              "      <td>0</td>\n",
              "      <td>0</td>\n",
              "      <td>0</td>\n",
              "      <td>0</td>\n",
              "      <td>0</td>\n",
              "      <td>0</td>\n",
              "      <td>1</td>\n",
              "      <td>0</td>\n",
              "      <td>0</td>\n",
              "      <td>0</td>\n",
              "      <td>0</td>\n",
              "      <td>0</td>\n",
              "      <td>0</td>\n",
              "      <td>0</td>\n",
              "      <td>0</td>\n",
              "      <td>0</td>\n",
              "      <td>0</td>\n",
              "      <td>0</td>\n",
              "      <td>0</td>\n",
              "      <td>0</td>\n",
              "      <td>0</td>\n",
              "      <td>0</td>\n",
              "      <td>0</td>\n",
              "      <td>0</td>\n",
              "      <td>0</td>\n",
              "      <td>0</td>\n",
              "      <td>25.82</td>\n",
              "      <td>25.82</td>\n",
              "      <td>25.82</td>\n",
              "      <td>1010.0</td>\n",
              "      <td>86</td>\n",
              "      <td>1.36</td>\n",
              "      <td>225</td>\n",
              "      <td>98</td>\n",
              "    </tr>\n",
              "    <tr>\n",
              "      <th>1</th>\n",
              "      <td>0</td>\n",
              "      <td>0</td>\n",
              "      <td>0</td>\n",
              "      <td>0</td>\n",
              "      <td>0</td>\n",
              "      <td>0</td>\n",
              "      <td>0</td>\n",
              "      <td>0</td>\n",
              "      <td>0</td>\n",
              "      <td>0</td>\n",
              "      <td>0</td>\n",
              "      <td>1</td>\n",
              "      <td>0</td>\n",
              "      <td>0</td>\n",
              "      <td>0</td>\n",
              "      <td>0</td>\n",
              "      <td>0</td>\n",
              "      <td>0</td>\n",
              "      <td>0</td>\n",
              "      <td>0</td>\n",
              "      <td>0</td>\n",
              "      <td>0</td>\n",
              "      <td>0</td>\n",
              "      <td>0</td>\n",
              "      <td>0</td>\n",
              "      <td>0</td>\n",
              "      <td>0</td>\n",
              "      <td>0</td>\n",
              "      <td>0</td>\n",
              "      <td>0</td>\n",
              "      <td>0</td>\n",
              "      <td>26.20</td>\n",
              "      <td>26.20</td>\n",
              "      <td>26.20</td>\n",
              "      <td>1011.0</td>\n",
              "      <td>84</td>\n",
              "      <td>2.09</td>\n",
              "      <td>247</td>\n",
              "      <td>91</td>\n",
              "    </tr>\n",
              "    <tr>\n",
              "      <th>2</th>\n",
              "      <td>0</td>\n",
              "      <td>0</td>\n",
              "      <td>0</td>\n",
              "      <td>0</td>\n",
              "      <td>0</td>\n",
              "      <td>0</td>\n",
              "      <td>0</td>\n",
              "      <td>0</td>\n",
              "      <td>0</td>\n",
              "      <td>0</td>\n",
              "      <td>0</td>\n",
              "      <td>1</td>\n",
              "      <td>0</td>\n",
              "      <td>0</td>\n",
              "      <td>0</td>\n",
              "      <td>0</td>\n",
              "      <td>0</td>\n",
              "      <td>0</td>\n",
              "      <td>0</td>\n",
              "      <td>0</td>\n",
              "      <td>0</td>\n",
              "      <td>0</td>\n",
              "      <td>0</td>\n",
              "      <td>0</td>\n",
              "      <td>0</td>\n",
              "      <td>0</td>\n",
              "      <td>0</td>\n",
              "      <td>0</td>\n",
              "      <td>0</td>\n",
              "      <td>0</td>\n",
              "      <td>0</td>\n",
              "      <td>26.45</td>\n",
              "      <td>26.45</td>\n",
              "      <td>26.45</td>\n",
              "      <td>1011.0</td>\n",
              "      <td>84</td>\n",
              "      <td>2.44</td>\n",
              "      <td>262</td>\n",
              "      <td>94</td>\n",
              "    </tr>\n",
              "    <tr>\n",
              "      <th>3</th>\n",
              "      <td>0</td>\n",
              "      <td>0</td>\n",
              "      <td>0</td>\n",
              "      <td>0</td>\n",
              "      <td>0</td>\n",
              "      <td>0</td>\n",
              "      <td>0</td>\n",
              "      <td>0</td>\n",
              "      <td>0</td>\n",
              "      <td>0</td>\n",
              "      <td>0</td>\n",
              "      <td>1</td>\n",
              "      <td>0</td>\n",
              "      <td>0</td>\n",
              "      <td>0</td>\n",
              "      <td>0</td>\n",
              "      <td>0</td>\n",
              "      <td>0</td>\n",
              "      <td>0</td>\n",
              "      <td>0</td>\n",
              "      <td>0</td>\n",
              "      <td>0</td>\n",
              "      <td>0</td>\n",
              "      <td>0</td>\n",
              "      <td>0</td>\n",
              "      <td>0</td>\n",
              "      <td>0</td>\n",
              "      <td>0</td>\n",
              "      <td>0</td>\n",
              "      <td>0</td>\n",
              "      <td>0</td>\n",
              "      <td>26.80</td>\n",
              "      <td>26.80</td>\n",
              "      <td>26.80</td>\n",
              "      <td>1011.0</td>\n",
              "      <td>82</td>\n",
              "      <td>2.29</td>\n",
              "      <td>271</td>\n",
              "      <td>94</td>\n",
              "    </tr>\n",
              "    <tr>\n",
              "      <th>4</th>\n",
              "      <td>1</td>\n",
              "      <td>0</td>\n",
              "      <td>0</td>\n",
              "      <td>0</td>\n",
              "      <td>0</td>\n",
              "      <td>0</td>\n",
              "      <td>0</td>\n",
              "      <td>0</td>\n",
              "      <td>0</td>\n",
              "      <td>0</td>\n",
              "      <td>0</td>\n",
              "      <td>0</td>\n",
              "      <td>0</td>\n",
              "      <td>0</td>\n",
              "      <td>0</td>\n",
              "      <td>0</td>\n",
              "      <td>0</td>\n",
              "      <td>0</td>\n",
              "      <td>0</td>\n",
              "      <td>0</td>\n",
              "      <td>0</td>\n",
              "      <td>0</td>\n",
              "      <td>0</td>\n",
              "      <td>0</td>\n",
              "      <td>0</td>\n",
              "      <td>0</td>\n",
              "      <td>0</td>\n",
              "      <td>0</td>\n",
              "      <td>0</td>\n",
              "      <td>0</td>\n",
              "      <td>0</td>\n",
              "      <td>27.04</td>\n",
              "      <td>27.04</td>\n",
              "      <td>27.04</td>\n",
              "      <td>1010.0</td>\n",
              "      <td>82</td>\n",
              "      <td>1.71</td>\n",
              "      <td>274</td>\n",
              "      <td>76</td>\n",
              "    </tr>\n",
              "  </tbody>\n",
              "</table>\n",
              "</div>"
            ],
            "text/plain": [
              "   broken clouds  drizzle  dust  ...  wind_speed  wind_deg  clouds_all\n",
              "0              0        0     0  ...        1.36       225          98\n",
              "1              0        0     0  ...        2.09       247          91\n",
              "2              0        0     0  ...        2.44       262          94\n",
              "3              0        0     0  ...        2.29       271          94\n",
              "4              1        0     0  ...        1.71       274          76\n",
              "\n",
              "[5 rows x 39 columns]"
            ]
          },
          "metadata": {
            "tags": []
          },
          "execution_count": 15
        }
      ]
    },
    {
      "cell_type": "code",
      "metadata": {
        "id": "A20wQKqGynKo"
      },
      "source": [
        "X = df_new[['temp','temp_min','temp_max','pressure','humidity','wind_speed','wind_deg','clouds_all']]\n",
        "\n",
        "y = df_new[['broken clouds', 'drizzle', 'dust', 'few clouds', 'fog', 'haze',\n",
        "       'heavy intensity rain', 'heavy intesity shower rain',\n",
        "       'heavy thunderstorm', 'light intensity drizzle',\n",
        "       'light intensity shower rain', 'light rain', 'light thunderstorm',\n",
        "       'mist', 'moderate rain', 'overcast clouds', 'proximity moderate rain',\n",
        "       'proximity shower rain', 'proximity squalls', 'proximity thunderstorm',\n",
        "       'proximity tornado', 'scattered clouds', 'shower rain', 'sky is clear',\n",
        "       'smoke', 'thunderstorm', 'thunderstorm with heavy rain',\n",
        "       'thunderstorm with light rain', 'thunderstorm with rain',\n",
        "       'very heavy rain', 'volcanic ash',]]"
      ],
      "execution_count": 18,
      "outputs": []
    },
    {
      "cell_type": "markdown",
      "metadata": {
        "id": "Q-phYKp1hww1"
      },
      "source": [
        "## Train the predicting model"
      ]
    },
    {
      "cell_type": "markdown",
      "metadata": {
        "id": "jpS5Aapvh8MU"
      },
      "source": [
        "### Split the data\n",
        "I will split the data 80:20 because the dataset is realy large so 20 percent of testing data is more than enough"
      ]
    },
    {
      "cell_type": "code",
      "metadata": {
        "id": "lyORetio0xVt"
      },
      "source": [
        "X_train, X_test, y_train, y_test = train_test_split(X, y, test_size=0.2, random_state=42)"
      ],
      "execution_count": 19,
      "outputs": []
    },
    {
      "cell_type": "code",
      "metadata": {
        "colab": {
          "base_uri": "https://localhost:8080/"
        },
        "id": "Dxi23W4Y5J89",
        "outputId": "1f1f6154-457f-4972-c504-13ce430a5913"
      },
      "source": [
        "X_train.shape, y_train.shape"
      ],
      "execution_count": 20,
      "outputs": [
        {
          "output_type": "execute_result",
          "data": {
            "text/plain": [
              "((211939, 8), (211939, 31))"
            ]
          },
          "metadata": {
            "tags": []
          },
          "execution_count": 20
        }
      ]
    },
    {
      "cell_type": "markdown",
      "metadata": {
        "id": "kheK_9I0iOrF"
      },
      "source": [
        "### Model Building using Basic ANN"
      ]
    },
    {
      "cell_type": "code",
      "metadata": {
        "id": "maG4x_fd1CeK"
      },
      "source": [
        "model = Sequential([\n",
        "                    Dense(1024, input_shape=(None,8), activation='relu'),\n",
        "                    Dense(31, activation='softmax')\n",
        "])"
      ],
      "execution_count": 21,
      "outputs": []
    },
    {
      "cell_type": "code",
      "metadata": {
        "id": "9QN6j0-b1j6F"
      },
      "source": [
        "model.compile(optimizer='adam', loss='categorical_crossentropy', metrics='acc')"
      ],
      "execution_count": 23,
      "outputs": []
    },
    {
      "cell_type": "code",
      "metadata": {
        "colab": {
          "base_uri": "https://localhost:8080/"
        },
        "id": "EWZRg2o92KK4",
        "outputId": "76f1e892-06e3-4a49-823e-9c000403ce68"
      },
      "source": [
        "model.fit(X_train, y_train, validation_data=(X_test, y_test), epochs=10, verbose=1)"
      ],
      "execution_count": 24,
      "outputs": [
        {
          "output_type": "stream",
          "text": [
            "Epoch 1/10\n",
            "WARNING:tensorflow:Model was constructed with shape (None, None, 8) for input KerasTensor(type_spec=TensorSpec(shape=(None, None, 8), dtype=tf.float32, name='dense_input'), name='dense_input', description=\"created by layer 'dense_input'\"), but it was called on an input with incompatible shape (None, 8).\n",
            "WARNING:tensorflow:Model was constructed with shape (None, None, 8) for input KerasTensor(type_spec=TensorSpec(shape=(None, None, 8), dtype=tf.float32, name='dense_input'), name='dense_input', description=\"created by layer 'dense_input'\"), but it was called on an input with incompatible shape (None, 8).\n",
            "6624/6624 [==============================] - ETA: 0s - loss: 1.4780 - acc: 0.7733WARNING:tensorflow:Model was constructed with shape (None, None, 8) for input KerasTensor(type_spec=TensorSpec(shape=(None, None, 8), dtype=tf.float32, name='dense_input'), name='dense_input', description=\"created by layer 'dense_input'\"), but it was called on an input with incompatible shape (None, 8).\n",
            "6624/6624 [==============================] - 20s 2ms/step - loss: 1.4780 - acc: 0.7733 - val_loss: 0.5897 - val_acc: 0.8363\n",
            "Epoch 2/10\n",
            "6624/6624 [==============================] - 16s 2ms/step - loss: 0.5476 - acc: 0.8378 - val_loss: 0.5169 - val_acc: 0.8460\n",
            "Epoch 3/10\n",
            "6624/6624 [==============================] - 17s 3ms/step - loss: 0.5188 - acc: 0.8446 - val_loss: 0.4933 - val_acc: 0.8518\n",
            "Epoch 4/10\n",
            "6624/6624 [==============================] - 16s 2ms/step - loss: 0.5095 - acc: 0.8467 - val_loss: 0.5073 - val_acc: 0.8460\n",
            "Epoch 5/10\n",
            "6624/6624 [==============================] - 16s 2ms/step - loss: 0.5071 - acc: 0.8471 - val_loss: 0.4970 - val_acc: 0.8477\n",
            "Epoch 6/10\n",
            "6624/6624 [==============================] - 16s 2ms/step - loss: 0.5060 - acc: 0.8478 - val_loss: 0.5370 - val_acc: 0.8387\n",
            "Epoch 7/10\n",
            "6624/6624 [==============================] - 17s 2ms/step - loss: 0.5031 - acc: 0.8481 - val_loss: 0.4862 - val_acc: 0.8514\n",
            "Epoch 8/10\n",
            "6624/6624 [==============================] - 17s 3ms/step - loss: 0.5013 - acc: 0.8482 - val_loss: 0.4929 - val_acc: 0.8484\n",
            "Epoch 9/10\n",
            "6624/6624 [==============================] - 17s 3ms/step - loss: 0.4999 - acc: 0.8487 - val_loss: 0.4880 - val_acc: 0.8511\n",
            "Epoch 10/10\n",
            "6624/6624 [==============================] - 16s 2ms/step - loss: 0.4994 - acc: 0.8489 - val_loss: 0.4885 - val_acc: 0.8549\n"
          ],
          "name": "stdout"
        },
        {
          "output_type": "execute_result",
          "data": {
            "text/plain": [
              "<tensorflow.python.keras.callbacks.History at 0x7f1e7699c8d0>"
            ]
          },
          "metadata": {
            "tags": []
          },
          "execution_count": 24
        }
      ]
    },
    {
      "cell_type": "code",
      "metadata": {
        "colab": {
          "base_uri": "https://localhost:8080/"
        },
        "id": "zkbtjvDUFI-N",
        "outputId": "d60fa19b-8224-4819-b1ee-385f6ea3ee59"
      },
      "source": [
        "model.predict([[26.46, 26.86, 27.35, 1012.70, 81, 4.31, 122.1, 28]])"
      ],
      "execution_count": 29,
      "outputs": [
        {
          "output_type": "execute_result",
          "data": {
            "text/plain": [
              "array([[5.7915861e-15, 9.2898454e-14, 3.9679326e-05, 1.7018126e-01,\n",
              "        1.0442685e-05, 1.2672972e-03, 3.4865382e-04, 3.1311779e-36,\n",
              "        3.0956623e-31, 1.3023499e-09, 1.5807627e-05, 4.6428427e-02,\n",
              "        6.5168128e-11, 2.2108281e-05, 1.3091257e-03, 2.8688263e-30,\n",
              "        1.4077387e-16, 2.5825397e-05, 1.2492925e-06, 1.4803627e-03,\n",
              "        1.4512537e-05, 7.7544606e-01, 3.3005421e-05, 2.6147674e-08,\n",
              "        7.1097733e-05, 2.7911435e-03, 1.8299964e-06, 5.5751469e-05,\n",
              "        4.4498933e-04, 8.0615437e-06, 3.2909104e-06]], dtype=float32)"
            ]
          },
          "metadata": {
            "tags": []
          },
          "execution_count": 29
        }
      ]
    },
    {
      "cell_type": "code",
      "metadata": {
        "colab": {
          "base_uri": "https://localhost:8080/"
        },
        "id": "Vu19OJjrGqMt",
        "outputId": "6e721c92-a4bc-46d3-9890-e1aae0192ecb"
      },
      "source": [
        "print('the accuracy is: ', round(7.7544606e-01*100,1), '%')"
      ],
      "execution_count": 32,
      "outputs": [
        {
          "output_type": "stream",
          "text": [
            "the accuracy is:  77.5 %\n"
          ],
          "name": "stdout"
        }
      ]
    },
    {
      "cell_type": "code",
      "metadata": {
        "id": "4N7C4HBVuGm1"
      },
      "source": [
        "'broken clouds', 'drizzle', 'dust', 'few clouds', \n",
        "'fog', 'haze', 'heavy intensity rain', 'heavy intesity shower rain',\n",
        "'heavy thunderstorm', 'light intensity drizzle', 'light intensity shower rain', 'light rain', \n",
        "'light thunderstorm', 'mist', 'moderate rain', 'overcast clouds', \n",
        "'proximity moderate rain', 'proximity shower rain', 'proximity squalls', 'proximity thunderstorm',\n",
        "'proximity tornado', 'scattered clouds', 'shower rain', 'sky is clear',\n",
        "'smoke', 'thunderstorm', 'thunderstorm with heavy rain', 'thunderstorm with light rain', \n",
        "'thunderstorm with rain', 'very heavy rain', 'volcanic ash'"
      ],
      "execution_count": null,
      "outputs": []
    },
    {
      "cell_type": "markdown",
      "metadata": {
        "id": "NDyW0sBYunSU"
      },
      "source": [
        "The result is September 2021 will be scattered clouds in Depasar"
      ]
    }
  ]
}